{
 "cells": [
  {
   "cell_type": "code",
   "execution_count": 2,
   "metadata": {
    "colab": {},
    "colab_type": "code",
    "id": "uXRCzGNSVHs6"
   },
   "outputs": [
    {
     "name": "stderr",
     "output_type": "stream",
     "text": [
      "Using TensorFlow backend.\n"
     ]
    }
   ],
   "source": [
    "from __future__ import print_function\n",
    "\n",
    "import numpy as np\n",
    "import pickle\n",
    "import pandas as pd\n",
    "\n",
    "from keras.optimizers import SGD\n",
    "from keras.preprocessing import sequence\n",
    "from keras.utils import np_utils\n",
    "from keras.models import Sequential\n",
    "from keras.layers.core import Dense, Dropout, Activation, Flatten\n",
    "from keras.layers.recurrent import LSTM\n",
    "from sklearn.model_selection import train_test_split\n",
    "from sklearn.metrics import classification_report\n",
    "from sklearn.preprocessing import LabelEncoder\n",
    "from tensorflow.keras import regularizers"
   ]
  },
  {
   "cell_type": "code",
   "execution_count": 3,
   "metadata": {
    "colab": {},
    "colab_type": "code",
    "id": "HFeecLVdVTVz"
   },
   "outputs": [],
   "source": [
    "#set parameters\n",
    "\n",
    "batch_size = 50\n",
    "hidden_units = 10\n",
    "nb_classes = 16\n",
    "num_lstm_units = 350 #or 64?\n",
    "num_epochs = 30"
   ]
  },
  {
   "cell_type": "code",
   "execution_count": 4,
   "metadata": {
    "colab": {},
    "colab_type": "code",
    "id": "zZVdJK54Vc1a"
   },
   "outputs": [
    {
     "name": "stdout",
     "output_type": "stream",
     "text": [
      "1080 train sequences\n",
      "270 test sequences\n",
      "X_train shape: (1080, 13, 1)\n",
      "X_test shape: (270, 13, 1)\n",
      "y_train shape: (1080,)\n",
      "y_test shape: (270,)\n"
     ]
    }
   ],
   "source": [
    "mfcc_filename = \"mfccs_dev_22050.csv\"\n",
    "dataset = pd.read_csv(mfcc_filename)\n",
    "df = pd.DataFrame(dataset)\n",
    "mfcc_data = df[[\"mfcc_mean1\",\"mfcc_mean2\",\"mfcc_mean3\",\"mfcc_mean4\",\"mfcc_mean5\",\"mfcc_mean6\",\"mfcc_mean7\",\"mfcc_mean8\",\"mfcc_mean9\",\"mfcc_mean10\",\"mfcc_mean11\",\"mfcc_mean12\",\"mfcc_mean13\"]]\n",
    "test_dim = mfcc_data.shape[0]\n",
    "\n",
    "#set up targets (labels)\n",
    "accent_data = pd.read_csv(\"cv-valid-dev-acc-mp3.csv\")\n",
    "targets_raw = np.array(accent_data['accent'])\n",
    "\n",
    "label_encoder = LabelEncoder()\n",
    "mfcc_targets = label_encoder.fit_transform(targets_raw)\n",
    "\n",
    "X_train,X_test,y_train,y_test = train_test_split(\n",
    "    mfcc_data,mfcc_targets,test_size=0.20,random_state=42\n",
    ")\n",
    "\n",
    "X_train = X_train.values.reshape(X_train.shape[0], X_train.shape[1], 1)\n",
    "X_test = X_test.values.reshape(X_test.shape[0], X_test.shape[1],1)\n",
    "\n",
    "print(len(X_train), 'train sequences')\n",
    "print(len(X_test), 'test sequences')\n",
    "print('X_train shape:', X_train.shape)\n",
    "print('X_test shape:', X_test.shape)\n",
    "print('y_train shape:', y_train.shape)\n",
    "print('y_test shape:', y_test.shape)\n",
    "\n",
    "Y_train = np_utils.to_categorical(y_train, nb_classes)\n",
    "Y_test = np_utils.to_categorical(y_test, nb_classes)"
   ]
  },
  {
   "cell_type": "code",
   "execution_count": 19,
   "metadata": {
    "colab": {},
    "colab_type": "code",
    "id": "cXrZ_XBlW7rK"
   },
   "outputs": [
    {
     "name": "stdout",
     "output_type": "stream",
     "text": [
      "Model: \"sequential_12\"\n",
      "_________________________________________________________________\n",
      "Layer (type)                 Output Shape              Param #   \n",
      "=================================================================\n",
      "lstm_20 (LSTM)               (None, 13, 350)           492800    \n",
      "_________________________________________________________________\n",
      "lstm_21 (LSTM)               (None, 13, 350)           981400    \n",
      "_________________________________________________________________\n",
      "lstm_22 (LSTM)               (None, 350)               981400    \n",
      "_________________________________________________________________\n",
      "dense_18 (Dense)             (None, 250)               87750     \n",
      "_________________________________________________________________\n",
      "dropout_11 (Dropout)         (None, 250)               0         \n",
      "_________________________________________________________________\n",
      "dense_19 (Dense)             (None, 16)                4016      \n",
      "=================================================================\n",
      "Total params: 2,547,366\n",
      "Trainable params: 2,547,366\n",
      "Non-trainable params: 0\n",
      "_________________________________________________________________\n",
      "Train on 1080 samples, validate on 270 samples\n",
      "Epoch 1/30\n",
      "1080/1080 [==============================] - 8s 8ms/step - loss: 1.8327 - accuracy: 0.4213 - val_loss: 1.5789 - val_accuracy: 0.4815\n",
      "Epoch 2/30\n",
      "1080/1080 [==============================] - 7s 6ms/step - loss: 1.6834 - accuracy: 0.4630 - val_loss: 1.5266 - val_accuracy: 0.4815\n",
      "Epoch 3/30\n",
      "1080/1080 [==============================] - 7s 6ms/step - loss: 1.6722 - accuracy: 0.4685 - val_loss: 1.5322 - val_accuracy: 0.4815\n",
      "Epoch 4/30\n",
      "1080/1080 [==============================] - 7s 7ms/step - loss: 1.6512 - accuracy: 0.4667 - val_loss: 1.5293 - val_accuracy: 0.4815\n",
      "Epoch 5/30\n",
      "1080/1080 [==============================] - 7s 6ms/step - loss: 1.6539 - accuracy: 0.4676 - val_loss: 1.5064 - val_accuracy: 0.4815\n",
      "Epoch 6/30\n",
      "1080/1080 [==============================] - 7s 7ms/step - loss: 1.6443 - accuracy: 0.4602 - val_loss: 1.5049 - val_accuracy: 0.4741\n",
      "Epoch 7/30\n",
      "1080/1080 [==============================] - 7s 6ms/step - loss: 1.6186 - accuracy: 0.4639 - val_loss: 1.4978 - val_accuracy: 0.4815\n",
      "Epoch 8/30\n",
      "1080/1080 [==============================] - 7s 6ms/step - loss: 1.6005 - accuracy: 0.4639 - val_loss: 1.4604 - val_accuracy: 0.4815\n",
      "Epoch 9/30\n",
      "1080/1080 [==============================] - 7s 6ms/step - loss: 1.5968 - accuracy: 0.4620 - val_loss: 1.5126 - val_accuracy: 0.4815\n",
      "Epoch 10/30\n",
      "1080/1080 [==============================] - 7s 6ms/step - loss: 1.5770 - accuracy: 0.4639 - val_loss: 1.4576 - val_accuracy: 0.4815\n",
      "Epoch 11/30\n",
      "1080/1080 [==============================] - 7s 6ms/step - loss: 1.5807 - accuracy: 0.4556 - val_loss: 1.4802 - val_accuracy: 0.4963\n",
      "Epoch 12/30\n",
      "1080/1080 [==============================] - 7s 6ms/step - loss: 1.5833 - accuracy: 0.4556 - val_loss: 1.4843 - val_accuracy: 0.4815\n",
      "Epoch 13/30\n",
      "1080/1080 [==============================] - 7s 6ms/step - loss: 1.5781 - accuracy: 0.4630 - val_loss: 1.5012 - val_accuracy: 0.4778\n",
      "Epoch 14/30\n",
      "1080/1080 [==============================] - 7s 6ms/step - loss: 1.5501 - accuracy: 0.4676 - val_loss: 1.5008 - val_accuracy: 0.4519\n",
      "Epoch 15/30\n",
      "1080/1080 [==============================] - 7s 6ms/step - loss: 1.5414 - accuracy: 0.4537 - val_loss: 1.4711 - val_accuracy: 0.5000\n",
      "Epoch 16/30\n",
      "1080/1080 [==============================] - 7s 7ms/step - loss: 1.5267 - accuracy: 0.4704 - val_loss: 1.4398 - val_accuracy: 0.5037\n",
      "Epoch 17/30\n",
      "1080/1080 [==============================] - 7s 7ms/step - loss: 1.4787 - accuracy: 0.4704 - val_loss: 1.4655 - val_accuracy: 0.4704\n",
      "Epoch 18/30\n",
      "1080/1080 [==============================] - 7s 6ms/step - loss: 1.4657 - accuracy: 0.4944 - val_loss: 1.4670 - val_accuracy: 0.4815\n",
      "Epoch 19/30\n",
      "1080/1080 [==============================] - 7s 7ms/step - loss: 1.4614 - accuracy: 0.4694 - val_loss: 1.4545 - val_accuracy: 0.4926\n",
      "Epoch 20/30\n",
      "1080/1080 [==============================] - 8s 7ms/step - loss: 1.4607 - accuracy: 0.4796 - val_loss: 1.4443 - val_accuracy: 0.4741\n",
      "Epoch 21/30\n",
      "1080/1080 [==============================] - 7s 6ms/step - loss: 1.4477 - accuracy: 0.4833 - val_loss: 1.4427 - val_accuracy: 0.5037\n",
      "Epoch 22/30\n",
      "1080/1080 [==============================] - 7s 6ms/step - loss: 1.4431 - accuracy: 0.4870 - val_loss: 1.5074 - val_accuracy: 0.4926\n",
      "Epoch 23/30\n",
      "1080/1080 [==============================] - 7s 7ms/step - loss: 1.4174 - accuracy: 0.4917 - val_loss: 1.4623 - val_accuracy: 0.4778\n",
      "Epoch 24/30\n",
      "1080/1080 [==============================] - 7s 7ms/step - loss: 1.3573 - accuracy: 0.5083 - val_loss: 1.5136 - val_accuracy: 0.4926\n",
      "Epoch 25/30\n",
      "1080/1080 [==============================] - 8s 7ms/step - loss: 1.3354 - accuracy: 0.5139 - val_loss: 1.4732 - val_accuracy: 0.4815\n",
      "Epoch 26/30\n",
      "1080/1080 [==============================] - 8s 7ms/step - loss: 1.2739 - accuracy: 0.5361 - val_loss: 1.4544 - val_accuracy: 0.5259\n",
      "Epoch 27/30\n",
      "1080/1080 [==============================] - 9s 9ms/step - loss: 1.2273 - accuracy: 0.5574 - val_loss: 1.5140 - val_accuracy: 0.4222\n",
      "Epoch 28/30\n",
      "1080/1080 [==============================] - 11s 10ms/step - loss: 1.2315 - accuracy: 0.5306 - val_loss: 1.4595 - val_accuracy: 0.4852\n",
      "Epoch 29/30\n",
      "1080/1080 [==============================] - 7s 6ms/step - loss: 1.1317 - accuracy: 0.5815 - val_loss: 1.4931 - val_accuracy: 0.5148\n",
      "Epoch 30/30\n",
      "1080/1080 [==============================] - 9s 8ms/step - loss: 1.0484 - accuracy: 0.5861 - val_loss: 1.6152 - val_accuracy: 0.4852\n",
      "              precision    recall  f1-score   support\n",
      "\n",
      "           0       0.00      0.00      0.00         3\n",
      "           1       0.27      0.11      0.16        27\n",
      "           2       0.00      0.00      0.00         1\n",
      "           3       0.11      0.10      0.11        10\n",
      "           4       0.44      0.49      0.46        72\n",
      "           6       0.29      0.11      0.15        19\n",
      "           7       0.00      0.00      0.00         2\n",
      "           8       0.00      0.00      0.00         2\n",
      "           9       0.00      0.00      0.00         1\n",
      "          11       0.17      0.50      0.25         2\n",
      "          13       0.00      0.00      0.00         1\n",
      "          14       0.58      0.68      0.63       130\n",
      "          15       0.00      0.00      0.00         0\n",
      "\n",
      "    accuracy                           0.49       270\n",
      "   macro avg       0.14      0.15      0.13       270\n",
      "weighted avg       0.45      0.49      0.46       270\n",
      "\n"
     ]
    },
    {
     "name": "stderr",
     "output_type": "stream",
     "text": [
      "/Users/yeojin_jung/opt/anaconda3/lib/python3.7/site-packages/sklearn/metrics/classification.py:1437: UndefinedMetricWarning: Precision and F-score are ill-defined and being set to 0.0 in labels with no predicted samples.\n",
      "  'precision', 'predicted', average, warn_for)\n",
      "/Users/yeojin_jung/opt/anaconda3/lib/python3.7/site-packages/sklearn/metrics/classification.py:1439: UndefinedMetricWarning: Recall and F-score are ill-defined and being set to 0.0 in labels with no true samples.\n",
      "  'recall', 'true', average, warn_for)\n"
     ]
    }
   ],
   "source": [
    "#build model\n",
    "model = Sequential()\n",
    "\n",
    "# model.add(LSTM(num_lstm_units, return_sequences=True, stateful=False,\n",
    "#                batch_input_shape=(batch_size, X_train.shape[1], X_train.shape[2])))\n",
    "# model.add(LSTM(num_lstm_units, return_sequences=True, stateful=False))\n",
    "# model.add(LSTM(num_lstm_units, stateful=False))\n",
    "model.add(LSTM(num_lstm_units,return_sequences=True,input_shape=(X_train.shape[1],X_train.shape[2])))\n",
    "model.add(LSTM(num_lstm_units, return_sequences=True, stateful=False))\n",
    "model.add(LSTM(num_lstm_units, stateful=False))\n",
    "\n",
    "# We flatten the output of the conv layer,\n",
    "# so that we can add a vanilla dense layer:\n",
    "# model.add(Flatten())\n",
    "\n",
    "model.add(Dense(250))\n",
    "\n",
    "# add dropout to control for overfitting\n",
    "model.add(Dropout(.25))\n",
    "\n",
    "# squash output onto number of classes in probability space\n",
    "model.add(Dense(nb_classes, activation='softmax'\n",
    "#                 kernel_regularizer=regularizers.l2(1e-5)\n",
    "#                kernel_regularizer=regularizers.l1_l2(l1=1e-5, l2=1e-4)\n",
    "               ))\n",
    "\n",
    "model.compile(loss='categorical_crossentropy', optimizer='adam', metrics=[\"accuracy\"])\n",
    "model.summary()\n",
    "history = model.fit(X_train, Y_train, batch_size=batch_size, epochs=num_epochs,\n",
    "                   validation_data=(X_test, Y_test), verbose = 1)\n",
    "\n",
    "y_pred = model.predict_classes(X_test, batch_size=batch_size)\n",
    "print(classification_report(y_test, y_pred))"
   ]
  },
  {
   "cell_type": "code",
   "execution_count": 20,
   "metadata": {},
   "outputs": [
    {
     "name": "stdout",
     "output_type": "stream",
     "text": [
      "dict_keys(['val_loss', 'val_accuracy', 'loss', 'accuracy'])\n"
     ]
    },
    {
     "data": {
      "image/png": "[encoded data removed]",
      "text/plain": [
       "<Figure size 432x288 with 1 Axes>"
      ]
     },
     "metadata": {
      "needs_background": "light"
     },
     "output_type": "display_data"
    },
    {
     "data": {
      "image/png": "[encoded data removed]",
      "text/plain": [
       "<Figure size 432x288 with 1 Axes>"
      ]
     },
     "metadata": {
      "needs_background": "light"
     },
     "output_type": "display_data"
    }
   ],
   "source": [
    "from keras.callbacks import History \n",
    "import matplotlib.pyplot as plt\n",
    "\n",
    "print(history.history.keys())\n",
    "#  \"Accuracy\"\n",
    "plt.plot(history.history['accuracy'])\n",
    "plt.plot(history.history['val_accuracy'])\n",
    "plt.title('model acuracy')\n",
    "plt.ylabel('accuracy')\n",
    "plt.xlabel('epoch')\n",
    "plt.legend(['train', 'validation'], loc='upper left')\n",
    "plt.show()\n",
    "# \"Loss\"\n",
    "plt.plot(history.history['loss'])\n",
    "plt.plot(history.history['val_loss'])\n",
    "plt.title('model loss')\n",
    "plt.ylabel('loss')\n",
    "plt.xlabel('epoch')\n",
    "plt.legend(['train', 'validation'], loc='upper left')\n",
    "plt.show()"
   ]
  },
  {
   "cell_type": "code",
   "execution_count": null,
   "metadata": {},
   "outputs": [],
   "source": []
  }
 ],
 "metadata": {
  "colab": {
   "authorship_tag": "ABX9TyPmNYEa0ezyBGSxSLwDM8NG",
   "collapsed_sections": [],
   "name": "rnn_v2.ipynb",
   "provenance": []
  },
  "kernelspec": {
   "display_name": "Python 3",
   "language": "python",
   "name": "python3"
  },
  "language_info": {
   "codemirror_mode": {
    "name": "ipython",
    "version": 3
   },
   "file_extension": ".py",
   "mimetype": "text/x-python",
   "name": "python",
   "nbconvert_exporter": "python",
   "pygments_lexer": "ipython3",
   "version": "3.7.4"
  }
 },
 "nbformat": 4,
 "nbformat_minor": 1
}
