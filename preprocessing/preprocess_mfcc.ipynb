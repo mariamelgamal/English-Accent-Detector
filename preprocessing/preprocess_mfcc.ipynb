{
  "nbformat": 4,
  "nbformat_minor": 0,
  "metadata": {
    "colab": {
      "name": "preprocess_mfcc_debugged.ipynb",
      "provenance": [],
      "collapsed_sections": []
    },
    "kernelspec": {
      "display_name": "Python 3",
      "language": "python",
      "name": "python3"
    },
    "language_info": {
      "codemirror_mode": {
        "name": "ipython",
        "version": 3
      },
      "file_extension": ".py",
      "mimetype": "text/x-python",
      "name": "python",
      "nbconvert_exporter": "python",
      "pygments_lexer": "ipython3",
      "version": "3.7.4"
    }
  },
  "cells": [
    {
      "cell_type": "code",
      "metadata": {
        "colab_type": "code",
        "id": "g7S9WK4HtZ-R",
        "colab": {}
      },
      "source": [
        "import os\n",
        "import os.path\n",
        "import numpy as np\n",
        "import pandas as pd\n",
        "from sklearn.preprocessing import StandardScaler\n",
        "import matplotlib.pyplot as plt\n",
        "\n",
        "import csv\n",
        "import sys\n",
        "import errno\n",
        "import ntpath\n",
        "\n",
        "from python_speech_features import mfcc\n",
        "from python_speech_features import logfbank\n",
        "import scipy.io.wavfile as wav\n",
        "from scipy.io.wavfile import write as wav_write\n",
        "import librosa\n",
        "import librosa.display\n",
        "import scikits.samplerate\n",
        "from pydub.silence import split_on_silence\n",
        "\n",
        "%matplotlib inline"
      ],
      "execution_count": 0,
      "outputs": []
    },
    {
      "cell_type": "code",
      "metadata": {
        "colab_type": "code",
        "id": "esFizGG7tCzr",
        "colab": {}
      },
      "source": [
        "# create csv file to append the mfccs calculated for each audio sample\n",
        "with open('mfccs_dev.csv', 'w') as csvfile:\n",
        "    filewriter = csv.writer(csvfile, delimiter=',',\n",
        "                            quotechar='|', quoting=csv.QUOTE_MINIMAL)\n",
        "    # header\n",
        "    #filewriter.writerow(['filename', 'mfcc_1', 'mfcc_2', 'mfcc_3', 'mfcc_4', 'mfcc_5', 'mfcc_6', 'mfcc_7', 'mfcc_8', 'mfcc_9', 'mfcc_10', 'mfcc_11', 'mfcc_12', 'mfcc_13', 'mfcc_mean', 'delta_mfcc', 'delta2_mfcc'])\n",
        "    filewriter.writerow(['filename', 'mfcc_mean1', 'mfcc_mean2', 'mfcc_mean3', 'mfcc_mean4', 'mfcc_mean5', 'mfcc_mean6', 'mfcc_mean7', 'mfcc_mean8', 'mfcc_mean9', 'mfcc_mean10', 'mfcc_mean11', 'mfcc_mean12', 'mfcc_mean13'])"
      ],
      "execution_count": 0,
      "outputs": []
    },
    {
      "cell_type": "code",
      "metadata": {
        "colab_type": "code",
        "id": "Eqwr7FOutJVt",
        "colab": {}
      },
      "source": [
        "# get filename from a path\n",
        "def get_filename(path):\n",
        "    head, tail = ntpath.split(path)\n",
        "    tail= tail.split(\".\")[0]\n",
        "    return tail or ntpath.basename(head)"
      ],
      "execution_count": 0,
      "outputs": []
    },
    {
      "cell_type": "code",
      "metadata": {
        "colab_type": "code",
        "id": "X9Hxd2fztuhx",
        "colab": {}
      },
      "source": [
        "# plot audio file wave form\n",
        "def audio_plot(audiofile, SAMPLE_RATE, duration, input_dir, savedir):\n",
        "    y, sr = librosa.load(audiofile, sr = SAMPLE_RATE, duration = duration)\n",
        "    filename = get_filename(audiofile)\n",
        "\n",
        "    plt.figure(figsize=(14,4))\n",
        "    plt.figure()\n",
        "    plt.title(\"Audio sample at {} for {} ({} of {}) \".format(SAMPLE_RATE, filename, i, len(os.listdir(input_dir))))\n",
        "    librosa.display.waveplot(y, sr = sr)\n",
        "    plt.grid\n",
        "    plt.savefig(savedir + 'audio_at_{}_{}.png'.format(SAMPLE_RATE,filename))\n",
        "    return y, sr"
      ],
      "execution_count": 0,
      "outputs": []
    },
    {
      "cell_type": "code",
      "metadata": {
        "colab_type": "code",
        "id": "O9SefN4XtY20",
        "colab": {}
      },
      "source": [
        "# read in wav audiofile \n",
        "# return signal as np array and sampling rate as int\n",
        "def read_audio(audiofile):\n",
        "    sampling_rate, sig = wav.read(audiofile)\n",
        "    return sig, sampling_rate"
      ],
      "execution_count": 0,
      "outputs": []
    },
    {
      "cell_type": "code",
      "metadata": {
        "colab_type": "code",
        "id": "2sOzaxrauQYa",
        "colab": {}
      },
      "source": [
        "# chunk up audio into separate words\n",
        "# audio is silent if quiter than a threshold of -16 dBFS\n",
        "# whenever this threshold is met in the audio, we assume the word ended\n",
        "# and start another word audio when the threshold is exceeded again\n",
        "\n",
        "def word_chunk(audiofile):\n",
        "  # min silence length betn words = 100ms = 0.1s\n",
        "  # define silence as 16 db quieter than average loudness \n",
        "  # don't leave silence at start and end of word chunk\n",
        "\n",
        "    savedir = 'word_chunk/'\n",
        "    if not os.path.exists(savedir):\n",
        "        os.mkdir(savedir)\n",
        "    \n",
        "    filename = get_filename(audiofile)\n",
        "    chunks = split_on_silence(audiofile, min_silence_len=100, silence_thresh=-16);\n",
        "\n",
        "  # chunks is the original audio with all words zipped\n",
        "  # to export separate words\n",
        "    for i, chunk in enumerate(chunks):\n",
        "    # output files are chunk0.wav, ..., chunk#.wav\n",
        "        chunk.export(savedir+'{}_chunk{}.wav'.format(filename, i), format=\"wav\")"
      ],
      "execution_count": 0,
      "outputs": []
    },
    {
      "cell_type": "code",
      "metadata": {
        "colab_type": "code",
        "id": "Ou62qTzQu5uL",
        "colab": {}
      },
      "source": [
        "# MFCC (Mel Frequency Cepstral Coefficients)\n",
        "# MFCC decorrelates features\n",
        "# Using Librosa python package\n",
        "def mfcc_deltas(sample_rate, mfcc, input_dir, audiofile, i):\n",
        "  # pad first and second deltas\n",
        "    delta_mfcc = librosa.feature.delta(mfcc)\n",
        "    delta2_mfcc = librosa.feature.delta(mfcc, order=2)\n",
        "\n",
        "    savedir = 'mfcc_deltas/'\n",
        "    if not os.path.exists(savedir):\n",
        "        os.mkdir(savedir)\n",
        "    \n",
        "    filename = get_filename(audiofile)\n",
        "\n",
        "  # Visualization\n",
        "    plt.figure(figsize=(12,4))\n",
        "\n",
        "    plt.subplot(3,1,1)\n",
        "    librosa.display.specshow(mfcc)\n",
        "    plt.title(\"MFCC for {} ({} of {}) \".format(filename, i, len(os.listdir(input_dir))))\n",
        "    plt.ylabel(\"MFCC\")\n",
        "    plt.colorbar()\n",
        "\n",
        "    plt.subplot(3,1,2)\n",
        "    librosa.display.specshow(delta_mfcc)\n",
        "    plt.ylabel(\"MFCC-$\\Delta$\")\n",
        "    plt.colorbar()\n",
        "\n",
        "    plt.subplot(3,1,3)\n",
        "    librosa.display.specshow(delta2_mfcc, sr=sample_rate, x_axis=\"time\")\n",
        "    plt.ylabel(\"MFCC-$\\Delta^2$\")\n",
        "    plt.xlabel(\"Time\")\n",
        "    plt.colorbar()\n",
        "\n",
        "    plt.tight_layout()\n",
        "    plt.savefig(savedir + 'MFCC_{}_{}.png'.format(SAMPLE_RATE,filename))\n",
        "\n",
        "    return delta_mfcc, delta2_mfcc"
      ],
      "execution_count": 0,
      "outputs": []
    },
    {
      "cell_type": "code",
      "metadata": {
        "colab_type": "code",
        "id": "l7mUm0natLTv",
        "outputId": "2e080a65-5789-4c38-d388-a488aa7ecc30",
        "colab": {}
      },
      "source": [
        "datadir = 'cv-valid-dev-wav' #Insert folder path of the audio dataset\n",
        "\n",
        "for i, audiofile in enumerate(os.listdir(datadir)):\n",
        "    if audiofile.endswith('.wav'):\n",
        "        # Insert directory you'd like to save in\n",
        "        savedir = 'preprocessed/'\n",
        "        if not os.path.exists(savedir):\n",
        "            os.mkdir(savedir)\n",
        "        \n",
        "        filename = get_filename(audiofile)\n",
        "        #audio = AudioSegment.from_mp3(audiofile)\n",
        "        #audio.export()\n",
        "\n",
        "        # Audible sound to a human is 22050 Hz (22 KHz)\n",
        "        SAMPLE_RATE = 22050   #16000 Hz (16 KHz)\n",
        "        # chop at 5 seconds so the differences in the plots are more perceptible and consistent\n",
        "        duration = 5 #try with and without and save in separate directories\n",
        "\n",
        "        # uncomment if files haven't been converted from mp3 to wav\n",
        "        # audio = AudioSegment.from_mp3(src)\n",
        "        # audio.export(dst, format = \"wav\")\n",
        "        \n",
        "        path_file = os.path.join(datadir,audiofile)\n",
        "        \n",
        "        y, sr = audio_plot(path_file, SAMPLE_RATE, duration, datadir, savedir)\n",
        "\n",
        "        sig, sampling_rate = read_audio(path_file)\n",
        "\n",
        "        # using librosa\n",
        "        # extract top 13 mfcc coefficients\n",
        "        # returns M:np.ndarray [shape=(n_mfcc, t)] MFCC sequence\n",
        "        mfcc_feat = librosa.feature.mfcc(y=y, sr=sr, n_mfcc=13)\n",
        "\n",
        "        # using python speaking features\n",
        "        mfcc_coef = mfcc(sig, sampling_rate)\n",
        "        # get mean mfcc\n",
        "        mfcc_mean = np.mean(mfcc_coef, axis = 0)\n",
        "        # mfcc deltas\n",
        "        delta_mfcc, delta2_mfcc = mfcc_deltas(SAMPLE_RATE, mfcc_coef, datadir, path_file, i)\n",
        "        # write into mfcc csv file\n",
        "        with open('mfccs_dev.csv', 'a') as csvfile:\n",
        "            filewriter = csv.writer(csvfile, delimiter=',',\n",
        "                            quotechar='|', quoting=csv.QUOTE_MINIMAL)\n",
        "            filewriter.writerow([filename, mfcc_mean[0], mfcc_mean[1], mfcc_mean[2], mfcc_mean[3], mfcc_mean[4], mfcc_mean[5], mfcc_mean[6], mfcc_mean[7], mfcc_mean[8], mfcc_mean[9], mfcc_mean[10], mfcc_mean[11], mfcc_mean[12]])\n",
        "        # chunk up audio into separate words\n",
        "        #word_chunk(audiofile)\n"
      ],
      "execution_count": 0,
      "outputs": [
        {
          "output_type": "stream",
          "text": [
            "WARNING:root:frame length (1200) is greater than FFT size (512), frame will be truncated. Increase NFFT to avoid.\n"
          ],
          "name": "stderr"
        },
        {
          "output_type": "error",
          "ename": "AttributeError",
          "evalue": "'str' object has no attribute 'export'",
          "traceback": [
            "\u001b[0;31m---------------------------------------------------------------------------\u001b[0m",
            "\u001b[0;31mAttributeError\u001b[0m                            Traceback (most recent call last)",
            "\u001b[0;32m<ipython-input-143-d5d24a8dfa2e>\u001b[0m in \u001b[0;36m<module>\u001b[0;34m\u001b[0m\n\u001b[1;32m     40\u001b[0m \u001b[0;34m\u001b[0m\u001b[0m\n\u001b[1;32m     41\u001b[0m         \u001b[0;31m# chunk up audio into separate words\u001b[0m\u001b[0;34m\u001b[0m\u001b[0;34m\u001b[0m\u001b[0;34m\u001b[0m\u001b[0m\n\u001b[0;32m---> 42\u001b[0;31m         \u001b[0mword_chunk\u001b[0m\u001b[0;34m(\u001b[0m\u001b[0maudiofile\u001b[0m\u001b[0;34m)\u001b[0m\u001b[0;34m\u001b[0m\u001b[0;34m\u001b[0m\u001b[0m\n\u001b[0m",
            "\u001b[0;32m<ipython-input-141-065dcfad056b>\u001b[0m in \u001b[0;36mword_chunk\u001b[0;34m(audiofile)\u001b[0m\n\u001b[1;32m     20\u001b[0m     \u001b[0;32mfor\u001b[0m \u001b[0mi\u001b[0m\u001b[0;34m,\u001b[0m \u001b[0mchunk\u001b[0m \u001b[0;32min\u001b[0m \u001b[0menumerate\u001b[0m\u001b[0;34m(\u001b[0m\u001b[0mchunks\u001b[0m\u001b[0;34m)\u001b[0m\u001b[0;34m:\u001b[0m\u001b[0;34m\u001b[0m\u001b[0;34m\u001b[0m\u001b[0m\n\u001b[1;32m     21\u001b[0m     \u001b[0;31m# output files are chunk0.wav, ..., chunk#.wav\u001b[0m\u001b[0;34m\u001b[0m\u001b[0;34m\u001b[0m\u001b[0;34m\u001b[0m\u001b[0m\n\u001b[0;32m---> 22\u001b[0;31m         \u001b[0mchunk\u001b[0m\u001b[0;34m.\u001b[0m\u001b[0mexport\u001b[0m\u001b[0;34m(\u001b[0m\u001b[0msavedir\u001b[0m\u001b[0;34m+\u001b[0m\u001b[0;34m'{}_chunk{}.wav'\u001b[0m\u001b[0;34m.\u001b[0m\u001b[0mformat\u001b[0m\u001b[0;34m(\u001b[0m\u001b[0mfilename\u001b[0m\u001b[0;34m,\u001b[0m \u001b[0mi\u001b[0m\u001b[0;34m)\u001b[0m\u001b[0;34m,\u001b[0m \u001b[0mformat\u001b[0m\u001b[0;34m=\u001b[0m\u001b[0;34m\"wav\"\u001b[0m\u001b[0;34m)\u001b[0m\u001b[0;34m\u001b[0m\u001b[0;34m\u001b[0m\u001b[0m\n\u001b[0m",
            "\u001b[0;31mAttributeError\u001b[0m: 'str' object has no attribute 'export'"
          ]
        },
        {
          "output_type": "display_data",
          "data": {
            "text/plain": [
              "<Figure size 1008x288 with 0 Axes>"
            ]
          },
          "metadata": {
            "tags": []
          }
        },
        {
          "output_type": "display_data",
          "data": {
            "image/png": "[encoded data removed]",
            "text/plain": [
              "<Figure size 432x288 with 1 Axes>"
            ]
          },
          "metadata": {
            "tags": [],
            "needs_background": "light"
          }
        },
        {
          "output_type": "display_data",
          "data": {
            "image/png": "[encoded data removed]",
            "text/plain": [
              "<Figure size 864x288 with 6 Axes>"
            ]
          },
          "metadata": {
            "tags": [],
            "needs_background": "light"
          }
        }
      ]
    },
    {
      "cell_type": "code",
      "metadata": {
        "id": "j-HZE3alx89H",
        "colab_type": "code",
        "outputId": "64fdc780-3553-4528-bfa1-3231b7521bdf",
        "colab": {}
      },
      "source": [
        "path=\"cv-valid-dev-wav/sample-002846.wav\"\n",
        "head, tail = ntpath.split(path)\n",
        "\n",
        "print(head)\n",
        "print(tail.split(\".\")[0])\n",
        "print(ntpath.basename(head))"
      ],
      "execution_count": 0,
      "outputs": [
        {
          "output_type": "stream",
          "text": [
            "cv-valid-dev-wav\n",
            "sample-002846\n",
            "cv-valid-dev-wav\n"
          ],
          "name": "stdout"
        }
      ]
    },
    {
      "cell_type": "code",
      "metadata": {
        "id": "H4W7TM-2x89J",
        "colab_type": "code",
        "colab": {}
      },
      "source": [
        "savedir = 'mfcc_deltas/'\n",
        "os.mkdir(savedir)"
      ],
      "execution_count": 0,
      "outputs": []
    },
    {
      "cell_type": "code",
      "metadata": {
        "id": "LPKd4Ba1x89L",
        "colab_type": "code",
        "colab": {}
      },
      "source": [
        ""
      ],
      "execution_count": 0,
      "outputs": []
    }
  ]
}