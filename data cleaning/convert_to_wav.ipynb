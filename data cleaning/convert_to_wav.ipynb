{
  "nbformat": 4,
  "nbformat_minor": 0,
  "metadata": {
    "colab": {
      "name": "convert_to_wav.ipynb",
      "provenance": [],
      "collapsed_sections": []
    },
    "kernelspec": {
      "name": "python3",
      "display_name": "Python 3"
    }
  },
  "cells": [
    {
      "cell_type": "code",
      "metadata": {
        "id": "NYaMLjNGUJFq",
        "colab_type": "code",
        "colab": {}
      },
      "source": [
        "from os import path\n",
        "from pydub import AudioSegment\n",
        "import pandas as pd\n",
        "import numpy as np\n",
        "\n",
        "# files\n",
        "file_path = \"cv-valid-dev\"  \n",
        "df = pd.read_csv(\"cv-valid-dev-acc-mp3.csv\")\n",
        "sources = np.array(df['filename'])\n",
        "\n",
        "\n",
        "for f in sources:\n",
        "  x = f.split(\".\")\n",
        "  dst = x[0]+\".wav\"\n",
        "  \n",
        "  sound = AudioSegment.from_mp3(f)\n",
        "  sound.export(dst, format=\"wav\")"
      ],
      "execution_count": 0,
      "outputs": []
    }
  ]
}